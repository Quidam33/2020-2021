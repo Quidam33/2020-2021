{
 "cells": [
  {
   "cell_type": "code",
   "execution_count": null,
   "metadata": {
    "scrolled": true
   },
   "outputs": [],
   "source": [
    "import numpy as np\n",
    "from scipy. integrate import odeint\n",
    "import matplotlib.pyplot as plt\n",
    "import math\n",
    "\n",
    "t0 = 0\n",
    "\n",
    "x0 = [3.7, 2.8]\n",
    "p_cr = 27\n",
    "N = \n",
    "q = \n",
    "\n",
    "tau1 = \n",
    "tau2 = \n",
    "\n",
    "p1 = \n",
    "p2 = \n",
    "\n",
    "d = 0.00093\n",
    "\n",
    "a1 = p_cr/(tau1*tau1*p1*p1*N*q)\n",
    "a2 = p_cr/(tau2*tau2*p2*p2*N*q)\n",
    "b = p_cr/(tau1*tau1*tau2*tau2*p1*p1*p2*p2*N*q)\n",
    "c1 = (p_cr-p1)/(tau1*p1)\n",
    "c2 = (p_cr-p2)/(tau2*p2)\n",
    "\n",
    "t = np.arange( t0, 20, 0.01)\n",
    "\n",
    "def syst(y, t):\n",
    "    y1, y2 = y\n",
    "    return [ y1 - (a1/c1)*y1*y1 - (b/c1)*y1*y2, (c2/c1)*y2 - (a2/c1)*y2*y2 - (b/c1)*y1*y2 ]\n",
    "\n",
    "def syst2(y, t):\n",
    "    y1, y2 = y\n",
    "    return [ y1 - (a1/c1)*y1*y1 - (b/c1)*y1*y2, (c2/c1)*y2 - (a2/c1)*y2*y2 - (b/c1+d)*y1*y2 ]\n",
    "\n",
    "y1 = odeint(syst, x0, t)\n",
    "y2 = odeint(syst2, x0, t)\n",
    "\n",
    "M11 = y1[:,0]\n",
    "M12 = y1[:,1]\n",
    "\n",
    "M21 = y2[:,0]\n",
    "M22 = y2[:,1]\n",
    "\n",
    "fig = plt.figure(facecolor='white')\n",
    "plt.plot(t, M11, linewidth=2, label='M1')\n",
    "plt.plot(t, M12, linewidth=2, label='M2')\n",
    "plt.ylabel(\"капитал\")\n",
    "plt.xlabel(\"t\")\n",
    "plt.grid(True)\n",
    "plt.legend()\n",
    "plt.show()\n",
    "fig.savefig('01.png', dpi = 600)\n",
    "\n",
    "fig = plt.figure(facecolor='white')\n",
    "plt.plot(t, M21, linewidth=2, label='M1')\n",
    "plt.plot(t, M22, linewidth=2, label='M2')\n",
    "plt.ylabel(\"капитал\")\n",
    "plt.xlabel(\"t\")\n",
    "plt.grid(True)\n",
    "plt.legend()\n",
    "plt.show()\n",
    "fig.savefig('02.png', dpi = 600)\n"
   ]
  },
  {
   "cell_type": "code",
   "execution_count": null,
   "metadata": {},
   "outputs": [],
   "source": []
  }
 ],
 "metadata": {
  "kernelspec": {
   "display_name": "Python 3",
   "language": "python",
   "name": "python3"
  },
  "language_info": {
   "codemirror_mode": {
    "name": "ipython",
    "version": 3
   },
   "file_extension": ".py",
   "mimetype": "text/x-python",
   "name": "python",
   "nbconvert_exporter": "python",
   "pygments_lexer": "ipython3",
   "version": "3.7.1"
  }
 },
 "nbformat": 4,
 "nbformat_minor": 4
}
